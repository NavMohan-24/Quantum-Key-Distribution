{
 "cells": [
  {
   "cell_type": "markdown",
   "metadata": {
    "colab_type": "text",
    "id": "XcaDuzXbl_mL"
   },
   "source": [
    "# BB84 Quantum Key Distribution (QKD) Protocol using Qiskit\n"
   ]
  },
  {
   "cell_type": "code",
   "execution_count": 1,
   "metadata": {
    "colab": {},
    "colab_type": "code",
    "id": "48Nq5dTpVtjb"
   },
   "outputs": [],
   "source": [
    "%matplotlib inline\n",
    "import numpy as np\n",
    "import matplotlib.pyplot as plt\n",
    "# Importing standard Qiskit libraries\n",
    "from qiskit import QuantumCircuit, execute\n",
    "from qiskit.providers.aer import QasmSimulator\n",
    "from qiskit.visualization import *"
   ]
  },
  {
   "cell_type": "markdown",
   "metadata": {
    "colab_type": "text",
    "id": "W_VfWIExmzbR"
   },
   "source": [
    "## Choosing bases and encoding states\n",
    "\n",
    "Alice generates two binary strings. One encodes the basis for each qubit:\n",
    "\n",
    "$0 \\rightarrow$ Computational basis\n",
    "\n",
    "$1  \\rightarrow$ Hadamard basis\n",
    "\n",
    "The other encodes the state:\n",
    "\n",
    "$0  \\rightarrow|0\\rangle$ or $|+\\rangle $ \n",
    "\n",
    "$1  \\rightarrow|1\\rangle$  or  $|-\\rangle $ \n",
    "\n",
    "Bob also generates a binary string and uses the same convention to choose a basis for measurement\n"
   ]
  },
  {
   "cell_type": "code",
   "execution_count": 2,
   "metadata": {
    "colab": {},
    "colab_type": "code",
    "id": "0HEKqtaZVwWv"
   },
   "outputs": [
    {
     "name": "stdout",
     "output_type": "stream",
     "text": [
      "Alice's State:\t [1 0 0 0 1 1 0 1 0 1 0 0 1 0 1 1 1 0 1 1 0 0 1 0 0 1 0 0 0 1 1 1]\n",
      "Alice's Bases:\t [1 0 0 0 0 0 1 1 1 0 1 1 1 1 0 1 1 0 0 1 1 1 0 0 0 0 0 1 1 0 0 0]\n",
      "Bob's Bases:\t [0 0 1 1 1 1 1 0 1 0 0 1 1 1 0 0 1 0 1 0 1 1 0 1 1 1 1 1 0 1 1 1]\n"
     ]
    }
   ],
   "source": [
    "num_qubits = 32\n",
    "\n",
    "alice_basis = np.random.randint(2, size=num_qubits)\n",
    "alice_state = np.random.randint(2, size=num_qubits)\n",
    "bob_basis = np.random.randint(2, size=num_qubits)\n",
    "\n",
    "\n",
    "print(f\"Alice's State:\\t {alice_state}\")\n",
    "print(f\"Alice's Bases:\\t {alice_basis}\")\n",
    "print(f\"Bob's Bases:\\t {bob_basis}\")"
   ]
  },
  {
   "cell_type": "markdown",
   "metadata": {
    "colab_type": "text",
    "id": "pS2PFgpzq63z"
   },
   "source": [
    "## Creating the circuit\n",
    "\n",
    "Based on the following results:\n",
    "\n",
    "$X|0\\rangle = |1\\rangle$\n",
    "\n",
    "$H|0\\rangle = |+\\rangle$\n",
    "\n",
    "$ HX|0\\rangle = |-\\rangle$\n",
    "\n",
    "Our algorithm to construct the circuit is as follows:\n",
    "\n",
    "1. Whenever Alice wants to encode 1 in a qubit, she applies an $X$ gate to the qubit. To encode 0, no action is needed.\n",
    "2. Wherever she wants to encode it in the Hadamard basis, she applies an $H$ gate. No action is necessary to encode a qubit in the computational basis.\n",
    "\n",
    "3. She then _sends_ the qubits to Bob (symbolically represented in this circuit using wires)\n",
    "\n",
    "4. Bob measures the qubits according to his binary string. To measure a qubit in the Hadamard basis, he applies an $H$ gate to the corresponding qubit and then performs a mesurement on the computational basis. \n",
    "\n"
   ]
  },
  {
   "cell_type": "code",
   "execution_count": 3,
   "metadata": {
    "colab": {},
    "colab_type": "code",
    "id": "rzMnBoG3ZBQc"
   },
   "outputs": [],
   "source": [
    "bb84_circ = QuantumCircuit(num_qubits)\n",
    "\n",
    "# Alice prepares her qubits\n",
    "for index in range(len(alice_basis)):\n",
    "    if alice_state[index] == 1:\n",
    "        bb84_circ.x(index)\n",
    "    if alice_basis[index] == 1:\n",
    "        bb84_circ.h(index)\n",
    "bb84_circ.barrier()  \n",
    "\n",
    "# Bob measures the received qubits\n",
    "for index in range(len(bob_basis)):\n",
    "    if bob_basis[index] == 1:\n",
    "        bb84_circ.h(index)\n",
    "        \n",
    "bb84_circ.barrier()        \n",
    "bb84_circ.measure_all()\n",
    "    \n",
    "            \n",
    "# bb84_circ.draw('mpl')\n"
   ]
  },
  {
   "cell_type": "markdown",
   "metadata": {
    "colab_type": "text",
    "id": "DXypnuFRv5Z2"
   },
   "source": [
    "Now we will run this simulation experiment on the `QasmSimulator()` backend."
   ]
  },
  {
   "cell_type": "code",
   "execution_count": 5,
   "metadata": {
    "colab": {},
    "colab_type": "code",
    "id": "p5BGfk0gOP5y"
   },
   "outputs": [],
   "source": [
    "job = execute(bb84_circ.reverse_bits(),backend=QasmSimulator(),shots=10)\n",
    "counts = job.result().get_counts()\n",
    "\n",
    "# Prints out all the measured binary strings by Bob (reversed)\n",
    "# for count in [*counts]:\n",
    "#     print(count) "
   ]
  },
  {
   "cell_type": "code",
   "execution_count": 4,
   "metadata": {
    "colab": {},
    "colab_type": "code",
    "id": "Sq2VoUgFSxgg"
   },
   "outputs": [
    {
     "name": "stdout",
     "output_type": "stream",
     "text": [
      "The length of the key is 14\n",
      "The key contains 9 zeroes and 5 ones\n"
     ]
    }
   ],
   "source": [
    "counts = execute(bb84_circ.reverse_bits(),backend=QasmSimulator(),shots=10).result().get_counts()\n",
    "keys = []\n",
    "for temp_key in counts:\n",
    "    key = ''\n",
    "    for i in range(num_qubits):\n",
    "        if alice_basis[i] == bob_basis[i]: # Only choose bits where Alice and Bob chose the same basis\n",
    "             key += str(temp_key[i])\n",
    "    keys.append(key)\n",
    "print(f'The length of the key is {len(keys[0])}')\n",
    "print(f\"The key contains {(keys[0]).count('0')} zeroes and {(keys[0]).count('1')} ones\")"
   ]
  },
  {
   "cell_type": "code",
   "execution_count": 5,
   "metadata": {},
   "outputs": [
    {
     "name": "stdout",
     "output_type": "stream",
     "text": [
      "00010101100010\n",
      "00010101100010\n",
      "00010101100010\n",
      "00010101100010\n",
      "00010101100010\n",
      "00010101100010\n",
      "00010101100010\n",
      "00010101100010\n",
      "00010101100010\n",
      "00010101100010\n"
     ]
    }
   ],
   "source": [
    "for key in keys:\n",
    "    print(key)"
   ]
  },
  {
   "cell_type": "code",
   "execution_count": null,
   "metadata": {},
   "outputs": [],
   "source": []
  }
 ],
 "metadata": {
  "celltoolbar": "Edit Metadata",
  "colab": {
   "collapsed_sections": [],
   "name": "BB84.ipynb",
   "provenance": [],
   "version": "0.3.2"
  },
  "kernelspec": {
   "display_name": "Python 3",
   "language": "python",
   "name": "python3"
  },
  "language_info": {
   "codemirror_mode": {
    "name": "ipython",
    "version": 3
   },
   "file_extension": ".py",
   "mimetype": "text/x-python",
   "name": "python",
   "nbconvert_exporter": "python",
   "pygments_lexer": "ipython3",
   "version": "3.7.7"
  }
 },
 "nbformat": 4,
 "nbformat_minor": 4
}
